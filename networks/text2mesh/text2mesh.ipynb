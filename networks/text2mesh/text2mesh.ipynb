{
 "cells": [
  {
   "cell_type": "markdown",
   "metadata": {},
   "source": [
    "# Text2Mesh"
   ]
  },
  {
   "cell_type": "markdown",
   "metadata": {},
   "source": [
    "### Setup"
   ]
  },
  {
   "cell_type": "code",
   "execution_count": null,
   "metadata": {},
   "outputs": [],
   "source": [
    "import os\n",
    "\n",
    "!git clone https://github.com/ATKatary/IMAD.git\n",
    "!mkdir /content/implementation\n",
    "!cp -R /content/IMAD/networks/text2mesh/implementation/* /content/implementation\n",
    "!bash /content/implementation/setup.sh \"/content/implementation/main.py\" \"/content/text2mesh/main.py\""
   ]
  },
  {
   "cell_type": "markdown",
   "metadata": {},
   "source": [
    "### Imports"
   ]
  },
  {
   "cell_type": "code",
   "execution_count": null,
   "metadata": {},
   "outputs": [],
   "source": [
    "import shlex\n",
    "import subprocess\n",
    "%matplotlib inline\n",
    "import matplotlib.image as mpimg\n",
    "from matplotlib import pyplot as plt\n",
    "from implementation.helpers import *\n",
    "\n",
    "make_prompt = lambda content, style: [f\"A {style} {content}\",\n",
    "                                      f\"A {style}-shaped {content}\",\n",
    "                                      f\"{content} that looks like a {style}\",\n",
    "                                      f\"{content} in the style of a {style}\",\n",
    "                                      f\"A {content} that depicts a {style}\",\n",
    "                                      f\"{content} in the style of a beautiful {style}\",\n",
    "                                      f\"An artistic {content} that mimics a beautiful {style}\"]\n",
    "home_dir = \"./implementation\"\n",
    "text2mesh_path = \"./text2mesh\"\n",
    "models_dir = f\"{home_dir}/inputs\"\n",
    "models = get_valid_models(models_dir, models={}, text2mesh_path=text2mesh_path)"
   ]
  },
  {
   "cell_type": "markdown",
   "metadata": {},
   "source": [
    "### Parameters"
   ]
  },
  {
   "cell_type": "code",
   "execution_count": null,
   "metadata": {},
   "outputs": [],
   "source": [
    "run_all = input(\"Run all? (y/n): \")\n",
    "style = input(\"What is the style that I should test? \")\n",
    "content = input(\"What is the content that I should test? \")\n",
    "prompts = make_prompt(content, style)\n",
    "\n",
    "n_iter = 400 \n",
    "output_dir = \"./implementation/outputs\"\n",
    "if not run_all: \n",
    "    obj, obj_path = select_model(models)"
   ]
  },
  {
   "cell_type": "markdown",
   "metadata": {},
   "source": [
    "### Test"
   ]
  },
  {
   "cell_type": "code",
   "execution_count": null,
   "metadata": {},
   "outputs": [],
   "source": [
    "if run_all:\n",
    "    for obj, obj_path in models.items():\n",
    "        for prompt in prompts:\n",
    "            subprocess.call(shlex.split(f\"bash ./implementation/text2mesh.sh {obj_path} {output_dir} '{prompt}' {n_iter + 1} {text2mesh_path} {home_dir}\"))\n",
    "else: \n",
    "    for prompt in prompts:\n",
    "        subprocess.call(shlex.split(f\"bash ./implementation/text2mesh.sh {obj_path} {output_dir} '{prompt}' {n_iter + 1} {text2mesh_path} {home_dir}\"))"
   ]
  },
  {
   "cell_type": "markdown",
   "metadata": {},
   "source": [
    "### Display Results"
   ]
  },
  {
   "cell_type": "code",
   "execution_count": null,
   "metadata": {},
   "outputs": [],
   "source": [
    "if run_all:\n",
    "    for obj, obj_path in models.items():\n",
    "        display(output_dir, obj, n_iter)\n",
    "else: display(output_dir, obj, n_iter)"
   ]
  }
 ],
 "metadata": {
  "interpreter": {
   "hash": "cadefa720d1a2267f4d12d08d812560a64cfe891877bc388bf0e8af3e4846067"
  },
  "kernelspec": {
   "display_name": "",
   "language": "python",
   "name": "python3"
  },
  "language_info": {
   "codemirror_mode": {
    "name": "ipython",
    "version": 3
   },
   "file_extension": ".py",
   "mimetype": "text/x-python",
   "name": "python",
   "nbconvert_exporter": "python",
   "pygments_lexer": "ipython3",
   "version": "3.8.5"
  },
  "orig_nbformat": 4
 },
 "nbformat": 4,
 "nbformat_minor": 2
}
